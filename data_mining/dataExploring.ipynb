{
 "metadata": {
  "language_info": {
   "codemirror_mode": {
    "name": "ipython",
    "version": 3
   },
   "file_extension": ".py",
   "mimetype": "text/x-python",
   "name": "python",
   "nbconvert_exporter": "python",
   "pygments_lexer": "ipython3",
   "version": "3.8.5-final"
  },
  "orig_nbformat": 2,
  "kernelspec": {
   "name": "python3",
   "display_name": "Python 3"
  }
 },
 "nbformat": 4,
 "nbformat_minor": 2,
 "cells": [
  {
   "cell_type": "code",
   "execution_count": 1,
   "metadata": {},
   "outputs": [],
   "source": [
    "import pandas as pd\n",
    "import numpy as np"
   ]
  },
  {
   "cell_type": "code",
   "execution_count": 3,
   "metadata": {},
   "outputs": [],
   "source": [
    "matches = pd.read_csv(\"../data/match.csv\")\n",
    "players = pd.read_csv(\"../data/player.csv\")\n",
    "player_attributes = pd.read_csv(\"../data/player_attributes.csv\")"
   ]
  },
  {
   "cell_type": "code",
   "execution_count": 4,
   "metadata": {},
   "outputs": [
    {
     "output_type": "execute_result",
     "data": {
      "text/plain": [
       "   id  country_id  league_id     season  stage                 date  \\\n",
       "0   1           1          1  2008/2009      1  2008-08-17 00:00:00   \n",
       "1   2           1          1  2008/2009      1  2008-08-16 00:00:00   \n",
       "2   3           1          1  2008/2009      1  2008-08-16 00:00:00   \n",
       "\n",
       "   match_api_id  home_team_api_id  away_team_api_id  home_team_goal  ...  SJA  \\\n",
       "0        492473              9987              9993               1  ...  4.0   \n",
       "1        492474             10000              9994               0  ...  3.8   \n",
       "2        492475              9984              8635               0  ...  2.5   \n",
       "\n",
       "    VCH   VCD   VCA   GBH   GBD   GBA   BSH   BSD   BSA  \n",
       "0  1.65  3.40  4.50  1.78  3.25  4.00  1.73  3.40  4.20  \n",
       "1  2.00  3.25  3.25  1.85  3.25  3.75  1.91  3.25  3.60  \n",
       "2  2.35  3.25  2.65  2.50  3.20  2.50  2.30  3.20  2.75  \n",
       "\n",
       "[3 rows x 115 columns]"
      ],
      "text/html": "<div>\n<style scoped>\n    .dataframe tbody tr th:only-of-type {\n        vertical-align: middle;\n    }\n\n    .dataframe tbody tr th {\n        vertical-align: top;\n    }\n\n    .dataframe thead th {\n        text-align: right;\n    }\n</style>\n<table border=\"1\" class=\"dataframe\">\n  <thead>\n    <tr style=\"text-align: right;\">\n      <th></th>\n      <th>id</th>\n      <th>country_id</th>\n      <th>league_id</th>\n      <th>season</th>\n      <th>stage</th>\n      <th>date</th>\n      <th>match_api_id</th>\n      <th>home_team_api_id</th>\n      <th>away_team_api_id</th>\n      <th>home_team_goal</th>\n      <th>...</th>\n      <th>SJA</th>\n      <th>VCH</th>\n      <th>VCD</th>\n      <th>VCA</th>\n      <th>GBH</th>\n      <th>GBD</th>\n      <th>GBA</th>\n      <th>BSH</th>\n      <th>BSD</th>\n      <th>BSA</th>\n    </tr>\n  </thead>\n  <tbody>\n    <tr>\n      <th>0</th>\n      <td>1</td>\n      <td>1</td>\n      <td>1</td>\n      <td>2008/2009</td>\n      <td>1</td>\n      <td>2008-08-17 00:00:00</td>\n      <td>492473</td>\n      <td>9987</td>\n      <td>9993</td>\n      <td>1</td>\n      <td>...</td>\n      <td>4.0</td>\n      <td>1.65</td>\n      <td>3.40</td>\n      <td>4.50</td>\n      <td>1.78</td>\n      <td>3.25</td>\n      <td>4.00</td>\n      <td>1.73</td>\n      <td>3.40</td>\n      <td>4.20</td>\n    </tr>\n    <tr>\n      <th>1</th>\n      <td>2</td>\n      <td>1</td>\n      <td>1</td>\n      <td>2008/2009</td>\n      <td>1</td>\n      <td>2008-08-16 00:00:00</td>\n      <td>492474</td>\n      <td>10000</td>\n      <td>9994</td>\n      <td>0</td>\n      <td>...</td>\n      <td>3.8</td>\n      <td>2.00</td>\n      <td>3.25</td>\n      <td>3.25</td>\n      <td>1.85</td>\n      <td>3.25</td>\n      <td>3.75</td>\n      <td>1.91</td>\n      <td>3.25</td>\n      <td>3.60</td>\n    </tr>\n    <tr>\n      <th>2</th>\n      <td>3</td>\n      <td>1</td>\n      <td>1</td>\n      <td>2008/2009</td>\n      <td>1</td>\n      <td>2008-08-16 00:00:00</td>\n      <td>492475</td>\n      <td>9984</td>\n      <td>8635</td>\n      <td>0</td>\n      <td>...</td>\n      <td>2.5</td>\n      <td>2.35</td>\n      <td>3.25</td>\n      <td>2.65</td>\n      <td>2.50</td>\n      <td>3.20</td>\n      <td>2.50</td>\n      <td>2.30</td>\n      <td>3.20</td>\n      <td>2.75</td>\n    </tr>\n  </tbody>\n</table>\n<p>3 rows × 115 columns</p>\n</div>"
     },
     "metadata": {},
     "execution_count": 4
    }
   ],
   "source": [
    "matches.head(3)"
   ]
  },
  {
   "cell_type": "code",
   "execution_count": null,
   "metadata": {},
   "outputs": [],
   "source": [
    "players.head(3)"
   ]
  },
  {
   "cell_type": "code",
   "execution_count": null,
   "metadata": {},
   "outputs": [],
   "source": [
    "player_attributes.head(3)"
   ]
  },
  {
   "cell_type": "code",
   "execution_count": 14,
   "metadata": {},
   "outputs": [
    {
     "output_type": "stream",
     "name": "stdout",
     "text": [
      "id\t\t\t\t 0\ncountry_id\t\t\t\t 0\nleague_id\t\t\t\t 0\nseason\t\t\t\t 0\nstage\t\t\t\t 0\ndate\t\t\t\t 0\nmatch_api_id\t\t\t\t 0\nhome_team_api_id\t\t\t\t 0\naway_team_api_id\t\t\t\t 0\nhome_team_goal\t\t\t\t 0\naway_team_goal\t\t\t\t 0\nhome_player_X1\t\t\t\t 1821\nhome_player_X2\t\t\t\t 1821\nhome_player_X3\t\t\t\t 1832\nhome_player_X4\t\t\t\t 1832\nhome_player_X5\t\t\t\t 1832\nhome_player_X6\t\t\t\t 1832\nhome_player_X7\t\t\t\t 1832\nhome_player_X8\t\t\t\t 1832\nhome_player_X9\t\t\t\t 1832\nhome_player_X10\t\t\t\t 1832\nhome_player_X11\t\t\t\t 1832\naway_player_X1\t\t\t\t 1832\naway_player_X2\t\t\t\t 1832\naway_player_X3\t\t\t\t 1832\naway_player_X4\t\t\t\t 1832\naway_player_X5\t\t\t\t 1832\naway_player_X6\t\t\t\t 1832\naway_player_X7\t\t\t\t 1832\naway_player_X8\t\t\t\t 1832\naway_player_X9\t\t\t\t 1833\naway_player_X10\t\t\t\t 1833\naway_player_X11\t\t\t\t 1839\nhome_player_Y1\t\t\t\t 1821\nhome_player_Y2\t\t\t\t 1821\nhome_player_Y3\t\t\t\t 1832\nhome_player_Y4\t\t\t\t 1832\nhome_player_Y5\t\t\t\t 1832\nhome_player_Y6\t\t\t\t 1832\nhome_player_Y7\t\t\t\t 1832\nhome_player_Y8\t\t\t\t 1832\nhome_player_Y9\t\t\t\t 1832\nhome_player_Y10\t\t\t\t 1832\nhome_player_Y11\t\t\t\t 1832\naway_player_Y1\t\t\t\t 1832\naway_player_Y2\t\t\t\t 1832\naway_player_Y3\t\t\t\t 1832\naway_player_Y4\t\t\t\t 1832\naway_player_Y5\t\t\t\t 1832\naway_player_Y6\t\t\t\t 1832\naway_player_Y7\t\t\t\t 1832\naway_player_Y8\t\t\t\t 1832\naway_player_Y9\t\t\t\t 1833\naway_player_Y10\t\t\t\t 1833\naway_player_Y11\t\t\t\t 1839\nhome_player_1\t\t\t\t 1224\nhome_player_2\t\t\t\t 1315\nhome_player_3\t\t\t\t 1281\nhome_player_4\t\t\t\t 1323\nhome_player_5\t\t\t\t 1316\nhome_player_6\t\t\t\t 1325\nhome_player_7\t\t\t\t 1227\nhome_player_8\t\t\t\t 1309\nhome_player_9\t\t\t\t 1273\nhome_player_10\t\t\t\t 1436\nhome_player_11\t\t\t\t 1555\naway_player_1\t\t\t\t 1234\naway_player_2\t\t\t\t 1278\naway_player_3\t\t\t\t 1293\naway_player_4\t\t\t\t 1321\naway_player_5\t\t\t\t 1335\naway_player_6\t\t\t\t 1313\naway_player_7\t\t\t\t 1235\naway_player_8\t\t\t\t 1341\naway_player_9\t\t\t\t 1328\naway_player_10\t\t\t\t 1441\naway_player_11\t\t\t\t 1554\ngoal\t\t\t\t 11762\nshoton\t\t\t\t 11762\nshotoff\t\t\t\t 11762\nfoulcommit\t\t\t\t 11762\ncard\t\t\t\t 11762\ncross\t\t\t\t 11762\ncorner\t\t\t\t 11762\npossession\t\t\t\t 11762\nB365H\t\t\t\t 3387\nB365D\t\t\t\t 3387\nB365A\t\t\t\t 3387\nBWH\t\t\t\t 3404\nBWD\t\t\t\t 3404\nBWA\t\t\t\t 3404\nIWH\t\t\t\t 3459\nIWD\t\t\t\t 3459\nIWA\t\t\t\t 3459\nLBH\t\t\t\t 3423\nLBD\t\t\t\t 3423\nLBA\t\t\t\t 3423\nPSH\t\t\t\t 14811\nPSD\t\t\t\t 14811\nPSA\t\t\t\t 14811\nWHH\t\t\t\t 3408\nWHD\t\t\t\t 3408\nWHA\t\t\t\t 3408\nSJH\t\t\t\t 8882\nSJD\t\t\t\t 8882\nSJA\t\t\t\t 8882\nVCH\t\t\t\t 3411\nVCD\t\t\t\t 3411\nVCA\t\t\t\t 3411\nGBH\t\t\t\t 11817\nGBD\t\t\t\t 11817\nGBA\t\t\t\t 11817\nBSH\t\t\t\t 11818\nBSD\t\t\t\t 11818\nBSA\t\t\t\t 11818\n"
     ]
    }
   ],
   "source": [
    "for i, sum in enumerate(matches.isna().sum()):\n",
    "    print(matches.columns[i]+\"\\t\"*4,sum)"
   ]
  },
  {
   "cell_type": "code",
   "execution_count": 8,
   "metadata": {},
   "outputs": [
    {
     "output_type": "stream",
     "name": "stdout",
     "text": [
      "LENGTH MATCHES:   25979\nLENGTH PLAYERS:   11060\nLENGTH PLAYER ATTRIBUTES 183978\n0       id\n1       country_id\n2       league_id\n3       season\n4       stage\n5       date\n6       match_api_id\n7       home_team_api_id\n8       away_team_api_id\n9       home_team_goal\n10       away_team_goal\n11       home_player_X1\n12       home_player_X2\n13       home_player_X3\n14       home_player_X4\n15       home_player_X5\n16       home_player_X6\n17       home_player_X7\n18       home_player_X8\n19       home_player_X9\n20       home_player_X10\n21       home_player_X11\n22       away_player_X1\n23       away_player_X2\n24       away_player_X3\n25       away_player_X4\n26       away_player_X5\n27       away_player_X6\n28       away_player_X7\n29       away_player_X8\n30       away_player_X9\n31       away_player_X10\n32       away_player_X11\n33       home_player_Y1\n34       home_player_Y2\n35       home_player_Y3\n36       home_player_Y4\n37       home_player_Y5\n38       home_player_Y6\n39       home_player_Y7\n40       home_player_Y8\n41       home_player_Y9\n42       home_player_Y10\n43       home_player_Y11\n44       away_player_Y1\n45       away_player_Y2\n46       away_player_Y3\n47       away_player_Y4\n48       away_player_Y5\n49       away_player_Y6\n50       away_player_Y7\n51       away_player_Y8\n52       away_player_Y9\n53       away_player_Y10\n54       away_player_Y11\n55       home_player_1\n56       home_player_2\n57       home_player_3\n58       home_player_4\n59       home_player_5\n60       home_player_6\n61       home_player_7\n62       home_player_8\n63       home_player_9\n64       home_player_10\n65       home_player_11\n66       away_player_1\n67       away_player_2\n68       away_player_3\n69       away_player_4\n70       away_player_5\n71       away_player_6\n72       away_player_7\n73       away_player_8\n74       away_player_9\n75       away_player_10\n76       away_player_11\n77       goal\n78       shoton\n79       shotoff\n80       foulcommit\n81       card\n82       cross\n83       corner\n84       possession\n85       B365H\n86       B365D\n87       B365A\n88       BWH\n89       BWD\n90       BWA\n91       IWH\n92       IWD\n93       IWA\n94       LBH\n95       LBD\n96       LBA\n97       PSH\n98       PSD\n99       PSA\n100       WHH\n101       WHD\n102       WHA\n103       SJH\n104       SJD\n105       SJA\n106       VCH\n107       VCD\n108       VCA\n109       GBH\n110       GBD\n111       GBA\n112       BSH\n113       BSD\n114       BSA\n"
     ]
    }
   ],
   "source": [
    "print(\"LENGTH MATCHES:  \",len(matches))\n",
    "print(\"LENGTH PLAYERS:  \",len(players))\n",
    "print(\"LENGTH PLAYER ATTRIBUTES\", len(player_attributes))\n",
    "\n",
    "for index,col in enumerate(matches.columns):\n",
    "    print(index,\"     \",col)"
   ]
  },
  {
   "cell_type": "code",
   "execution_count": 25,
   "metadata": {},
   "outputs": [
    {
     "output_type": "execute_result",
     "data": {
      "text/plain": [
       "home_player_X1  home_player_X2  home_player_X3  home_player_X4  home_player_X5  home_player_X6  home_player_X7  home_player_X8  home_player_X9  home_player_X10  home_player_X11  away_player_X1  away_player_X2  away_player_X3  away_player_X4  away_player_X5  away_player_X6  away_player_X7  away_player_X8  away_player_X9  away_player_X10  away_player_X11  home_player_Y1  home_player_Y2  home_player_Y3  home_player_Y4  home_player_Y5  home_player_Y6  home_player_Y7  home_player_Y8  home_player_Y9  home_player_Y10  home_player_Y11  away_player_Y1  away_player_Y2  away_player_Y3  away_player_Y4  away_player_Y5  away_player_Y6  away_player_Y7  away_player_Y8  away_player_Y9  away_player_Y10\n",
       "False           False           False           False           False           False           False           False           False           False            False            False           False           False           False           False           False           False           False           False           False            False            False           False           False           False           False           False           False           False           False           False            False            False           False           False           False           False           False           False           False           False           False              24140\n",
       "                                                                                                                                                                                                                                                                                                                                                   True             False           False           False           False           False           False           False           False           False           False            False            False           False           False           False           False           False           False           False           False           False                  6\n",
       "                                                                                                                                                                                                                                                                                                                  True            True             True             False           False           False           False           False           False           False           False           False           False            False            False           False           False           False           False           False           False           False           True            True                   1\n",
       "                                True            True            True            True            True            True            True            True             True             True            True            True            True            True            True            True            True            True            True             True             False           False           True            True            True            True            True            True            True            True             True             True            True            True            True            True            True            True            True            True            True                  11\n",
       "True            True            True            True            True            True            True            True            True            True             True             True            True            True            True            True            True            True            True            True            True             True             True            True            True            True            True            True            True            True            True            True             True             True            True            True            True            True            True            True            True            True            True                1821\n",
       "dtype: int64"
      ]
     },
     "metadata": {},
     "execution_count": 25
    }
   ],
   "source": [
    "cols=[]\n",
    "for col in matches.columns:\n",
    "    cols.append(col)\n",
    "\n",
    "matches.isnull().groupby(cols[11:54]).size()"
   ]
  },
  {
   "cell_type": "code",
   "execution_count": 27,
   "metadata": {},
   "outputs": [
    {
     "output_type": "stream",
     "name": "stdout",
     "text": [
      "id\t\t\t\t 0\nplayer_api_id\t\t\t\t 0\nplayer_name\t\t\t\t 0\nplayer_fifa_api_id\t\t\t\t 0\nbirthday\t\t\t\t 0\nheight\t\t\t\t 0\nweight\t\t\t\t 0\n11060\n"
     ]
    }
   ],
   "source": [
    "for i, sum in enumerate(players.isna().sum()):\n",
    "    print(players.columns[i]+\"\\t\"*4,sum)\n",
    "\n",
    "print(len(players))"
   ]
  },
  {
   "cell_type": "code",
   "execution_count": 30,
   "metadata": {},
   "outputs": [
    {
     "output_type": "stream",
     "name": "stdout",
     "text": [
      "id\t\t\t\t 0\nplayer_fifa_api_id\t\t\t\t 0\nplayer_api_id\t\t\t\t 0\ndate\t\t\t\t 0\noverall_rating\t\t\t\t 836\npotential\t\t\t\t 836\npreferred_foot\t\t\t\t 836\nattacking_work_rate\t\t\t\t 3230\ndefensive_work_rate\t\t\t\t 836\ncrossing\t\t\t\t 836\nfinishing\t\t\t\t 836\nheading_accuracy\t\t\t\t 836\nshort_passing\t\t\t\t 836\nvolleys\t\t\t\t 2713\ndribbling\t\t\t\t 836\ncurve\t\t\t\t 2713\nfree_kick_accuracy\t\t\t\t 836\nlong_passing\t\t\t\t 836\nball_control\t\t\t\t 836\nacceleration\t\t\t\t 836\nsprint_speed\t\t\t\t 836\nagility\t\t\t\t 2713\nreactions\t\t\t\t 836\nbalance\t\t\t\t 2713\nshot_power\t\t\t\t 836\njumping\t\t\t\t 2713\nstamina\t\t\t\t 836\nstrength\t\t\t\t 836\nlong_shots\t\t\t\t 836\naggression\t\t\t\t 836\ninterceptions\t\t\t\t 836\npositioning\t\t\t\t 836\nvision\t\t\t\t 2713\npenalties\t\t\t\t 836\nmarking\t\t\t\t 836\nstanding_tackle\t\t\t\t 836\nsliding_tackle\t\t\t\t 2713\ngk_diving\t\t\t\t 836\ngk_handling\t\t\t\t 836\ngk_kicking\t\t\t\t 836\ngk_positioning\t\t\t\t 836\ngk_reflexes\t\t\t\t 836\n183978\n"
     ]
    }
   ],
   "source": [
    "for i, sum in enumerate(player_attributes.isna().sum()):\n",
    "    print(player_attributes.columns[i]+\"\\t\"*4,sum)\n",
    "\n",
    "print(len(player_attributes))"
   ]
  },
  {
   "cell_type": "code",
   "execution_count": null,
   "metadata": {},
   "outputs": [],
   "source": [
    "\n",
    "\n",
    "cols=[]\n",
    "cols_selection = [4,5,6,8,9,10,11,12,14,16,17,18,19,20,22,24,26,27,28,29,30,31,33,34,35,37,38,39,40,41]\n",
    "for i,col in enumerate(player_attributes.columns):\n",
    "    if(i in cols_selection):\n",
    "        cols.append(col)\n",
    "\n",
    "player_attributes.isnull().groupby(cols).size()"
   ]
  }
 ]
}