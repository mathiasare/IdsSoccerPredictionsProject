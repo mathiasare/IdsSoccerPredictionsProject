{
 "cells": [
  {
   "cell_type": "code",
   "execution_count": 1,
   "metadata": {
    "id": "W_o-Igf--Sci"
   },
   "outputs": [],
   "source": [
    "import numpy as np\n",
    "import pandas as pd\n",
    "from sklearn.model_selection import train_test_split\n",
    "#from google.colab import files\n",
    "\n",
    "from sklearn.ensemble import RandomForestClassifier\n",
    "from sklearn.metrics import accuracy_score\n",
    "from sklearn.ensemble import AdaBoostClassifier"
   ]
  },
  {
   "cell_type": "code",
   "execution_count": 2,
   "metadata": {
    "colab": {
     "base_uri": "https://localhost:8080/"
    },
    "id": "m3yNWYjK-X18",
    "outputId": "cd3b031b-9005-4b46-e4a0-81ddcb15d1d9"
   },
   "outputs": [],
   "source": [
    "#from google.colab import drive\n",
    "#drive.mount('/content/drive')\n"
   ]
  },
  {
   "cell_type": "code",
   "execution_count": null,
   "metadata": {
    "id": "lwU57VdQTFAB"
   },
   "outputs": [],
   "source": []
  },
  {
   "cell_type": "code",
   "execution_count": 3,
   "metadata": {
    "colab": {
     "base_uri": "https://localhost:8080/",
     "height": 470
    },
    "id": "J3_aLrGD-X-1",
    "outputId": "828fde88-ae9b-46ce-97ec-76d4f7589444"
   },
   "outputs": [
    {
     "name": "stdout",
     "output_type": "stream",
     "text": [
      "15976\n"
     ]
    },
    {
     "data": {
      "text/html": [
       "<div>\n",
       "<style scoped>\n",
       "    .dataframe tbody tr th:only-of-type {\n",
       "        vertical-align: middle;\n",
       "    }\n",
       "\n",
       "    .dataframe tbody tr th {\n",
       "        vertical-align: top;\n",
       "    }\n",
       "\n",
       "    .dataframe thead th {\n",
       "        text-align: right;\n",
       "    }\n",
       "</style>\n",
       "<table border=\"1\" class=\"dataframe\">\n",
       "  <thead>\n",
       "    <tr style=\"text-align: right;\">\n",
       "      <th></th>\n",
       "      <th>result</th>\n",
       "      <th>home_player_1 overall_rating</th>\n",
       "      <th>home_player_1 potential</th>\n",
       "      <th>home_player_1 crossing</th>\n",
       "      <th>home_player_1 finishing</th>\n",
       "      <th>home_player_1 heading_accuracy</th>\n",
       "      <th>home_player_1 short_passing</th>\n",
       "      <th>home_player_1 volleys</th>\n",
       "      <th>home_player_1 dribbling</th>\n",
       "      <th>home_player_1 curve</th>\n",
       "      <th>...</th>\n",
       "      <th>away_player_11 vision</th>\n",
       "      <th>away_player_11 penalties</th>\n",
       "      <th>away_player_11 marking</th>\n",
       "      <th>away_player_11 standing_tackle</th>\n",
       "      <th>away_player_11 sliding_tackle</th>\n",
       "      <th>away_player_11 gk_diving</th>\n",
       "      <th>away_player_11 gk_handling</th>\n",
       "      <th>away_player_11 gk_kicking</th>\n",
       "      <th>away_player_11 gk_positioning</th>\n",
       "      <th>away_player_11 gk_reflexes</th>\n",
       "    </tr>\n",
       "  </thead>\n",
       "  <tbody>\n",
       "    <tr>\n",
       "      <th>0</th>\n",
       "      <td>1</td>\n",
       "      <td>75.0000</td>\n",
       "      <td>75.0000</td>\n",
       "      <td>72.0000</td>\n",
       "      <td>65.0000</td>\n",
       "      <td>83.0000</td>\n",
       "      <td>82.0000</td>\n",
       "      <td>60.0000</td>\n",
       "      <td>65.0000</td>\n",
       "      <td>65.0000</td>\n",
       "      <td>...</td>\n",
       "      <td>78.0000</td>\n",
       "      <td>80.0000</td>\n",
       "      <td>82.0000</td>\n",
       "      <td>84.0000</td>\n",
       "      <td>84.0000</td>\n",
       "      <td>5.0000</td>\n",
       "      <td>7.0000</td>\n",
       "      <td>14.0000</td>\n",
       "      <td>15.000</td>\n",
       "      <td>9.0000</td>\n",
       "    </tr>\n",
       "    <tr>\n",
       "      <th>1</th>\n",
       "      <td>-1</td>\n",
       "      <td>76.0000</td>\n",
       "      <td>76.0000</td>\n",
       "      <td>81.0000</td>\n",
       "      <td>77.0000</td>\n",
       "      <td>43.0000</td>\n",
       "      <td>76.0000</td>\n",
       "      <td>76.0000</td>\n",
       "      <td>75.0000</td>\n",
       "      <td>79.0000</td>\n",
       "      <td>...</td>\n",
       "      <td>61.0000</td>\n",
       "      <td>63.0000</td>\n",
       "      <td>64.0000</td>\n",
       "      <td>66.0000</td>\n",
       "      <td>64.0000</td>\n",
       "      <td>9.0000</td>\n",
       "      <td>21.0000</td>\n",
       "      <td>42.0000</td>\n",
       "      <td>21.000</td>\n",
       "      <td>21.0000</td>\n",
       "    </tr>\n",
       "    <tr>\n",
       "      <th>2</th>\n",
       "      <td>1</td>\n",
       "      <td>58.0000</td>\n",
       "      <td>63.0000</td>\n",
       "      <td>25.0000</td>\n",
       "      <td>25.0000</td>\n",
       "      <td>25.0000</td>\n",
       "      <td>24.0000</td>\n",
       "      <td>25.0000</td>\n",
       "      <td>25.0000</td>\n",
       "      <td>25.0000</td>\n",
       "      <td>...</td>\n",
       "      <td>60.0000</td>\n",
       "      <td>60.0000</td>\n",
       "      <td>19.0000</td>\n",
       "      <td>27.0000</td>\n",
       "      <td>26.0000</td>\n",
       "      <td>14.0000</td>\n",
       "      <td>10.0000</td>\n",
       "      <td>14.0000</td>\n",
       "      <td>6.000</td>\n",
       "      <td>12.0000</td>\n",
       "    </tr>\n",
       "    <tr>\n",
       "      <th>3</th>\n",
       "      <td>1</td>\n",
       "      <td>75.0000</td>\n",
       "      <td>75.0000</td>\n",
       "      <td>72.0000</td>\n",
       "      <td>65.0000</td>\n",
       "      <td>83.0000</td>\n",
       "      <td>82.0000</td>\n",
       "      <td>60.0000</td>\n",
       "      <td>65.0000</td>\n",
       "      <td>65.0000</td>\n",
       "      <td>...</td>\n",
       "      <td>59.0000</td>\n",
       "      <td>57.0000</td>\n",
       "      <td>12.0000</td>\n",
       "      <td>12.0000</td>\n",
       "      <td>14.0000</td>\n",
       "      <td>8.0000</td>\n",
       "      <td>8.0000</td>\n",
       "      <td>11.0000</td>\n",
       "      <td>9.000</td>\n",
       "      <td>6.0000</td>\n",
       "    </tr>\n",
       "    <tr>\n",
       "      <th>5</th>\n",
       "      <td>1</td>\n",
       "      <td>76.0000</td>\n",
       "      <td>78.0000</td>\n",
       "      <td>63.0000</td>\n",
       "      <td>58.0000</td>\n",
       "      <td>56.0000</td>\n",
       "      <td>84.0000</td>\n",
       "      <td>60.0000</td>\n",
       "      <td>74.0000</td>\n",
       "      <td>66.0000</td>\n",
       "      <td>...</td>\n",
       "      <td>51.0000</td>\n",
       "      <td>48.0000</td>\n",
       "      <td>32.0000</td>\n",
       "      <td>25.0000</td>\n",
       "      <td>22.0000</td>\n",
       "      <td>8.0000</td>\n",
       "      <td>10.0000</td>\n",
       "      <td>13.0000</td>\n",
       "      <td>13.000</td>\n",
       "      <td>5.0000</td>\n",
       "    </tr>\n",
       "    <tr>\n",
       "      <th>...</th>\n",
       "      <td>...</td>\n",
       "      <td>...</td>\n",
       "      <td>...</td>\n",
       "      <td>...</td>\n",
       "      <td>...</td>\n",
       "      <td>...</td>\n",
       "      <td>...</td>\n",
       "      <td>...</td>\n",
       "      <td>...</td>\n",
       "      <td>...</td>\n",
       "      <td>...</td>\n",
       "      <td>...</td>\n",
       "      <td>...</td>\n",
       "      <td>...</td>\n",
       "      <td>...</td>\n",
       "      <td>...</td>\n",
       "      <td>...</td>\n",
       "      <td>...</td>\n",
       "      <td>...</td>\n",
       "      <td>...</td>\n",
       "      <td>...</td>\n",
       "    </tr>\n",
       "    <tr>\n",
       "      <th>21367</th>\n",
       "      <td>1</td>\n",
       "      <td>68.6353</td>\n",
       "      <td>73.4795</td>\n",
       "      <td>55.1421</td>\n",
       "      <td>49.9621</td>\n",
       "      <td>57.2635</td>\n",
       "      <td>62.4867</td>\n",
       "      <td>49.4889</td>\n",
       "      <td>59.2658</td>\n",
       "      <td>53.0014</td>\n",
       "      <td>...</td>\n",
       "      <td>25.0000</td>\n",
       "      <td>23.0000</td>\n",
       "      <td>25.0000</td>\n",
       "      <td>25.0000</td>\n",
       "      <td>25.0000</td>\n",
       "      <td>70.0000</td>\n",
       "      <td>70.0000</td>\n",
       "      <td>60.0000</td>\n",
       "      <td>76.000</td>\n",
       "      <td>78.0000</td>\n",
       "    </tr>\n",
       "    <tr>\n",
       "      <th>21370</th>\n",
       "      <td>1</td>\n",
       "      <td>46.0000</td>\n",
       "      <td>51.0000</td>\n",
       "      <td>26.0000</td>\n",
       "      <td>31.0000</td>\n",
       "      <td>28.0000</td>\n",
       "      <td>30.0000</td>\n",
       "      <td>44.0000</td>\n",
       "      <td>35.0000</td>\n",
       "      <td>47.0000</td>\n",
       "      <td>...</td>\n",
       "      <td>57.8682</td>\n",
       "      <td>54.9334</td>\n",
       "      <td>46.7574</td>\n",
       "      <td>50.3541</td>\n",
       "      <td>48.0293</td>\n",
       "      <td>14.6967</td>\n",
       "      <td>15.9478</td>\n",
       "      <td>20.5263</td>\n",
       "      <td>16.015</td>\n",
       "      <td>16.3253</td>\n",
       "    </tr>\n",
       "    <tr>\n",
       "      <th>21371</th>\n",
       "      <td>-1</td>\n",
       "      <td>72.0000</td>\n",
       "      <td>78.0000</td>\n",
       "      <td>77.0000</td>\n",
       "      <td>38.0000</td>\n",
       "      <td>63.0000</td>\n",
       "      <td>66.0000</td>\n",
       "      <td>41.0000</td>\n",
       "      <td>64.0000</td>\n",
       "      <td>60.0000</td>\n",
       "      <td>...</td>\n",
       "      <td>75.0000</td>\n",
       "      <td>76.0000</td>\n",
       "      <td>32.0000</td>\n",
       "      <td>54.0000</td>\n",
       "      <td>53.0000</td>\n",
       "      <td>6.0000</td>\n",
       "      <td>11.0000</td>\n",
       "      <td>42.0000</td>\n",
       "      <td>5.000</td>\n",
       "      <td>9.0000</td>\n",
       "    </tr>\n",
       "    <tr>\n",
       "      <th>21372</th>\n",
       "      <td>1</td>\n",
       "      <td>73.0000</td>\n",
       "      <td>77.0000</td>\n",
       "      <td>70.0000</td>\n",
       "      <td>47.0000</td>\n",
       "      <td>76.0000</td>\n",
       "      <td>66.0000</td>\n",
       "      <td>39.0000</td>\n",
       "      <td>66.0000</td>\n",
       "      <td>63.0000</td>\n",
       "      <td>...</td>\n",
       "      <td>57.8682</td>\n",
       "      <td>54.9334</td>\n",
       "      <td>46.7574</td>\n",
       "      <td>50.3541</td>\n",
       "      <td>48.0293</td>\n",
       "      <td>14.6967</td>\n",
       "      <td>15.9478</td>\n",
       "      <td>20.5263</td>\n",
       "      <td>16.015</td>\n",
       "      <td>16.3253</td>\n",
       "    </tr>\n",
       "    <tr>\n",
       "      <th>21373</th>\n",
       "      <td>1</td>\n",
       "      <td>68.6353</td>\n",
       "      <td>73.4795</td>\n",
       "      <td>55.1421</td>\n",
       "      <td>49.9621</td>\n",
       "      <td>57.2635</td>\n",
       "      <td>62.4867</td>\n",
       "      <td>49.4889</td>\n",
       "      <td>59.2658</td>\n",
       "      <td>53.0014</td>\n",
       "      <td>...</td>\n",
       "      <td>57.8682</td>\n",
       "      <td>54.9334</td>\n",
       "      <td>46.7574</td>\n",
       "      <td>50.3541</td>\n",
       "      <td>48.0293</td>\n",
       "      <td>14.6967</td>\n",
       "      <td>15.9478</td>\n",
       "      <td>20.5263</td>\n",
       "      <td>16.015</td>\n",
       "      <td>16.3253</td>\n",
       "    </tr>\n",
       "  </tbody>\n",
       "</table>\n",
       "<p>15976 rows × 772 columns</p>\n",
       "</div>"
      ],
      "text/plain": [
       "       result  home_player_1 overall_rating  home_player_1 potential  \\\n",
       "0           1                       75.0000                  75.0000   \n",
       "1          -1                       76.0000                  76.0000   \n",
       "2           1                       58.0000                  63.0000   \n",
       "3           1                       75.0000                  75.0000   \n",
       "5           1                       76.0000                  78.0000   \n",
       "...       ...                           ...                      ...   \n",
       "21367       1                       68.6353                  73.4795   \n",
       "21370       1                       46.0000                  51.0000   \n",
       "21371      -1                       72.0000                  78.0000   \n",
       "21372       1                       73.0000                  77.0000   \n",
       "21373       1                       68.6353                  73.4795   \n",
       "\n",
       "       home_player_1 crossing  home_player_1 finishing  \\\n",
       "0                     72.0000                  65.0000   \n",
       "1                     81.0000                  77.0000   \n",
       "2                     25.0000                  25.0000   \n",
       "3                     72.0000                  65.0000   \n",
       "5                     63.0000                  58.0000   \n",
       "...                       ...                      ...   \n",
       "21367                 55.1421                  49.9621   \n",
       "21370                 26.0000                  31.0000   \n",
       "21371                 77.0000                  38.0000   \n",
       "21372                 70.0000                  47.0000   \n",
       "21373                 55.1421                  49.9621   \n",
       "\n",
       "       home_player_1 heading_accuracy  home_player_1 short_passing  \\\n",
       "0                             83.0000                      82.0000   \n",
       "1                             43.0000                      76.0000   \n",
       "2                             25.0000                      24.0000   \n",
       "3                             83.0000                      82.0000   \n",
       "5                             56.0000                      84.0000   \n",
       "...                               ...                          ...   \n",
       "21367                         57.2635                      62.4867   \n",
       "21370                         28.0000                      30.0000   \n",
       "21371                         63.0000                      66.0000   \n",
       "21372                         76.0000                      66.0000   \n",
       "21373                         57.2635                      62.4867   \n",
       "\n",
       "       home_player_1 volleys  home_player_1 dribbling  home_player_1 curve  \\\n",
       "0                    60.0000                  65.0000              65.0000   \n",
       "1                    76.0000                  75.0000              79.0000   \n",
       "2                    25.0000                  25.0000              25.0000   \n",
       "3                    60.0000                  65.0000              65.0000   \n",
       "5                    60.0000                  74.0000              66.0000   \n",
       "...                      ...                      ...                  ...   \n",
       "21367                49.4889                  59.2658              53.0014   \n",
       "21370                44.0000                  35.0000              47.0000   \n",
       "21371                41.0000                  64.0000              60.0000   \n",
       "21372                39.0000                  66.0000              63.0000   \n",
       "21373                49.4889                  59.2658              53.0014   \n",
       "\n",
       "       ...  away_player_11 vision  away_player_11 penalties  \\\n",
       "0      ...                78.0000                   80.0000   \n",
       "1      ...                61.0000                   63.0000   \n",
       "2      ...                60.0000                   60.0000   \n",
       "3      ...                59.0000                   57.0000   \n",
       "5      ...                51.0000                   48.0000   \n",
       "...    ...                    ...                       ...   \n",
       "21367  ...                25.0000                   23.0000   \n",
       "21370  ...                57.8682                   54.9334   \n",
       "21371  ...                75.0000                   76.0000   \n",
       "21372  ...                57.8682                   54.9334   \n",
       "21373  ...                57.8682                   54.9334   \n",
       "\n",
       "       away_player_11 marking  away_player_11 standing_tackle  \\\n",
       "0                     82.0000                         84.0000   \n",
       "1                     64.0000                         66.0000   \n",
       "2                     19.0000                         27.0000   \n",
       "3                     12.0000                         12.0000   \n",
       "5                     32.0000                         25.0000   \n",
       "...                       ...                             ...   \n",
       "21367                 25.0000                         25.0000   \n",
       "21370                 46.7574                         50.3541   \n",
       "21371                 32.0000                         54.0000   \n",
       "21372                 46.7574                         50.3541   \n",
       "21373                 46.7574                         50.3541   \n",
       "\n",
       "       away_player_11 sliding_tackle  away_player_11 gk_diving  \\\n",
       "0                            84.0000                    5.0000   \n",
       "1                            64.0000                    9.0000   \n",
       "2                            26.0000                   14.0000   \n",
       "3                            14.0000                    8.0000   \n",
       "5                            22.0000                    8.0000   \n",
       "...                              ...                       ...   \n",
       "21367                        25.0000                   70.0000   \n",
       "21370                        48.0293                   14.6967   \n",
       "21371                        53.0000                    6.0000   \n",
       "21372                        48.0293                   14.6967   \n",
       "21373                        48.0293                   14.6967   \n",
       "\n",
       "       away_player_11 gk_handling  away_player_11 gk_kicking  \\\n",
       "0                          7.0000                    14.0000   \n",
       "1                         21.0000                    42.0000   \n",
       "2                         10.0000                    14.0000   \n",
       "3                          8.0000                    11.0000   \n",
       "5                         10.0000                    13.0000   \n",
       "...                           ...                        ...   \n",
       "21367                     70.0000                    60.0000   \n",
       "21370                     15.9478                    20.5263   \n",
       "21371                     11.0000                    42.0000   \n",
       "21372                     15.9478                    20.5263   \n",
       "21373                     15.9478                    20.5263   \n",
       "\n",
       "       away_player_11 gk_positioning  away_player_11 gk_reflexes  \n",
       "0                             15.000                      9.0000  \n",
       "1                             21.000                     21.0000  \n",
       "2                              6.000                     12.0000  \n",
       "3                              9.000                      6.0000  \n",
       "5                             13.000                      5.0000  \n",
       "...                              ...                         ...  \n",
       "21367                         76.000                     78.0000  \n",
       "21370                         16.015                     16.3253  \n",
       "21371                          5.000                      9.0000  \n",
       "21372                         16.015                     16.3253  \n",
       "21373                         16.015                     16.3253  \n",
       "\n",
       "[15976 rows x 772 columns]"
      ]
     },
     "execution_count": 3,
     "metadata": {},
     "output_type": "execute_result"
    }
   ],
   "source": [
    "#data = pd.read_csv(\"/content/drive/MyDrive/data/data.csv\",delimiter=\",\")\n",
    "data = pd.read_csv(\"./data.csv\")\n",
    "data=data.drop(columns=data.columns[:25])\n",
    "data = data[data.result != 0]\n",
    "print(len(data))\n",
    "X=data.drop(columns=[\"result\"])\n",
    "y=data[\"result\"]\n",
    "data"
   ]
  },
  {
   "cell_type": "code",
   "execution_count": 4,
   "metadata": {
    "id": "YGw5pzfd-YBW"
   },
   "outputs": [],
   "source": [
    "t_X,val_X,t_y,val_y=train_test_split(X,y,test_size=0.2)\n",
    "train_X,test_X,train_y,test_y=train_test_split(t_X,t_y,test_size=0.2)\n"
   ]
  },
  {
   "cell_type": "code",
   "execution_count": 5,
   "metadata": {
    "colab": {
     "base_uri": "https://localhost:8080/"
    },
    "id": "AfVIjKXB-YDU",
    "outputId": "c0403567-ea78-456f-c700-6a362c5aa327"
   },
   "outputs": [
    {
     "name": "stdout",
     "output_type": "stream",
     "text": [
      "TRAIN:  10224      10224\n",
      "TEST:  2556      2556\n",
      "VALIDATION:  3196      3196\n"
     ]
    }
   ],
   "source": [
    "print(\"TRAIN: \",len(train_X),\"    \",len(train_y))\n",
    "print(\"TEST: \",len(test_X),\"    \",len(test_y))\n",
    "print(\"VALIDATION: \",len(val_X),\"    \",len(val_y))"
   ]
  },
  {
   "cell_type": "code",
   "execution_count": 6,
   "metadata": {
    "colab": {
     "base_uri": "https://localhost:8080/"
    },
    "id": "riLqwch_-YHg",
    "outputId": "92fda80e-8bc8-4825-a366-7c4768ba3396"
   },
   "outputs": [
    {
     "data": {
      "text/plain": [
       "RandomForestClassifier(criterion='entropy')"
      ]
     },
     "execution_count": 6,
     "metadata": {},
     "output_type": "execute_result"
    }
   ],
   "source": [
    "rf = RandomForestClassifier(n_estimators=100,criterion=\"entropy\")\n",
    "rf.fit(train_X, train_y)"
   ]
  },
  {
   "cell_type": "code",
   "execution_count": 7,
   "metadata": {
    "colab": {
     "base_uri": "https://localhost:8080/"
    },
    "id": "0Pury1M3-YJo",
    "outputId": "ff702aff-ff45-48d2-b04a-32bbf24fb793"
   },
   "outputs": [
    {
     "name": "stdout",
     "output_type": "stream",
     "text": [
      "RANDOM FOREST 200 trees:    0.6506259780907668\n"
     ]
    }
   ],
   "source": [
    "y_pred=rf.predict(test_X)\n",
    "score = accuracy_score(test_y,y_pred)\n",
    "\n",
    "print(\"RANDOM FOREST 200 trees:   \" ,score)"
   ]
  },
  {
   "cell_type": "code",
   "execution_count": 8,
   "metadata": {
    "colab": {
     "base_uri": "https://localhost:8080/",
     "height": 346
    },
    "id": "Yduw1YnDR77N",
    "outputId": "a04eb635-15da-46a3-f081-d8c1660043d0"
   },
   "outputs": [
    {
     "data": {
      "text/plain": [
       "0.6257822277847309"
      ]
     },
     "execution_count": 8,
     "metadata": {},
     "output_type": "execute_result"
    }
   ],
   "source": [
    "y_valpreds = rf.predict(val_X)\n",
    "val_score = accuracy_score(val_y,y_valpreds)\n",
    "val_score"
   ]
  },
  {
   "cell_type": "code",
   "execution_count": 9,
   "metadata": {
    "colab": {
     "base_uri": "https://localhost:8080/"
    },
    "id": "S9Ny3JPWTsb4",
    "outputId": "7006a5d7-db86-4895-ea20-1c17adcc081b"
   },
   "outputs": [
    {
     "name": "stdout",
     "output_type": "stream",
     "text": [
      "RANDOM FOREST 200 trees:    0.6506259780907668\n",
      "VALIDATION SCORE:   0.6257822277847309\n"
     ]
    }
   ],
   "source": [
    "print(\"RANDOM FOREST 200 trees:   \" ,score)\n",
    "print(\"VALIDATION SCORE:  \",val_score)"
   ]
  },
  {
   "cell_type": "code",
   "execution_count": null,
   "metadata": {
    "colab": {
     "base_uri": "https://localhost:8080/",
     "height": 589
    },
    "id": "z7Y60PvkkqzQ",
    "outputId": "51b79dbe-d4d8-413e-a694-7cf5e3a606ee"
   },
   "outputs": [
    {
     "name": "stdout",
     "output_type": "stream",
     "text": [
      "0.6365414710485133\n"
     ]
    }
   ],
   "source": [
    "i=0\n",
    "best_score=0\n",
    "model=None\n",
    "k=1\n",
    "\n",
    "while(k<20):\n",
    "  t_X,val_X,t_y,val_y=train_test_split(X,y,test_size=0.2)\n",
    "  train_X,test_X,train_y,test_y=train_test_split(t_X,t_y,test_size=0.2)\n",
    "  rf = RandomForestClassifier(n_estimators=200,min_samples_leaf=k)\n",
    "  rf.fit(train_X, train_y)\n",
    "  y_pred=rf.predict(test_X)\n",
    "  score = accuracy_score(test_y,y_pred)\n",
    "  if(score>best_score):\n",
    "    best_score=score\n",
    "    model=rf\n",
    "    \n",
    "  k+=1\n",
    "  print(score) "
   ]
  },
  {
   "cell_type": "code",
   "execution_count": null,
   "metadata": {
    "colab": {
     "base_uri": "https://localhost:8080/"
    },
    "id": "6WSaVy2Akq6r",
    "outputId": "6c2ad867-f72a-4d7c-ef33-c5904069a093"
   },
   "outputs": [],
   "source": [
    "print(best_score)"
   ]
  },
  {
   "cell_type": "code",
   "execution_count": null,
   "metadata": {
    "id": "wEJm4czVkrA5"
   },
   "outputs": [],
   "source": []
  },
  {
   "cell_type": "code",
   "execution_count": null,
   "metadata": {
    "colab": {
     "base_uri": "https://localhost:8080/"
    },
    "id": "XttivSpuOCTY",
    "outputId": "5ea592bb-a317-4962-db09-3bcc14a9d0b1"
   },
   "outputs": [],
   "source": [
    "ada=AdaBoostClassifier(n_estimators=200)\n",
    "ada.fit(train_X, train_y)"
   ]
  },
  {
   "cell_type": "code",
   "execution_count": null,
   "metadata": {
    "colab": {
     "base_uri": "https://localhost:8080/"
    },
    "id": "MQ8pphXyOCag",
    "outputId": "fb598bf9-fc61-4192-dd1f-dec384de9695"
   },
   "outputs": [],
   "source": [
    "y_pred_ada=ada.predict(test_X)\n",
    "score_ada=accuracy_score(test_y,y_pred_ada)\n",
    "score_ada"
   ]
  },
  {
   "cell_type": "code",
   "execution_count": null,
   "metadata": {
    "id": "EFDfIQ8-zPy-"
   },
   "outputs": [],
   "source": [
    "from sklearn.metrics import plot_roc_curve,roc_curve,plot_confusion_matrix,roc_auc_score\n",
    "from matplotlib import pyplot as plt \n",
    "\n",
    "\n",
    "\n",
    "\n",
    "def plot_comparing_roc_curves(model_A,model_B,X_test,y_test):\n",
    "  #works only with binary classification\n",
    "\n",
    "  pred_A = model_A.predict(X_test)\n",
    "  pred_B = model_B.predict(X_test)\n",
    "  fig, (ax1) = plt.subplots(1)\n",
    "  plt.rcParams[\"figure.figsize\"] = (40,10)\n",
    "  \n",
    "  plot_roc_curve(model_A,X_test,y_test,ax=ax1)\n",
    "  plot_roc_curve(model_B,X_test,y_test,ax=ax1)\n",
    "  plt.show()\n",
    "\n",
    "def plot_confusion_matrixes(modelA,modelB,X_test,y_test):\n",
    "  fig, (ax1, ax2) = plt.subplots(1, 2)\n",
    "  plt.rcParams[\"figure.figsize\"] = (40,10)\n",
    "  fig.suptitle('Confusion matrixes on validation set')\n",
    "  plot_confusion_matrix(modelA,X_test,y_test,ax=ax1)\n",
    "  plot_confusion_matrix(modelB,X_test,y_test,ax=ax2)\n",
    "  plt.show()\n",
    "\n",
    "def plot_label_distribution(data):\n",
    "  wins,ties,losses=data.groupby(\"result\")[\"id\"].count()\n",
    "\n",
    "  fig = plt.figure(figsize =(10, 7)) \n",
    "  \n",
    "  plt.bar([\"wins\",\"ties\",\"losses\"], (wins,ties,losses),color=['green', 'gray', 'red'],width=0.5) \n",
    "  plt.show() "
   ]
  },
  {
   "cell_type": "code",
   "execution_count": null,
   "metadata": {
    "colab": {
     "base_uri": "https://localhost:8080/",
     "height": 488
    },
    "id": "RvFbOY1uzP1h",
    "outputId": "b9119dc5-9a08-4d2a-c7e9-fa5b3151bb89"
   },
   "outputs": [],
   "source": [
    "plot_confusion_matrixes(rf,ada,test_X,test_y)"
   ]
  },
  {
   "cell_type": "code",
   "execution_count": null,
   "metadata": {
    "colab": {
     "base_uri": "https://localhost:8080/",
     "height": 238
    },
    "id": "_orFLcO5zP3k",
    "outputId": "2896c1e0-635e-49fd-d7ba-fec83bd677f3"
   },
   "outputs": [],
   "source": [
    "plot_comparing_roc_curves(rf,ada,test_X,test_y)"
   ]
  },
  {
   "cell_type": "code",
   "execution_count": null,
   "metadata": {
    "colab": {
     "base_uri": "https://localhost:8080/",
     "height": 428
    },
    "id": "w_fRSIEJzP6_",
    "outputId": "87522d4d-bf6d-4d14-8342-58e2684cdef6"
   },
   "outputs": [],
   "source": [
    "plot_label_distribution(data)"
   ]
  },
  {
   "cell_type": "code",
   "execution_count": null,
   "metadata": {
    "id": "eRfoXAJszP93"
   },
   "outputs": [],
   "source": []
  }
 ],
 "metadata": {
  "colab": {
   "collapsed_sections": [],
   "name": "train_model.ipynb",
   "provenance": [],
   "toc_visible": true
  },
  "kernelspec": {
   "display_name": "Python 3",
   "language": "python",
   "name": "python3"
  },
  "language_info": {
   "codemirror_mode": {
    "name": "ipython",
    "version": 3
   },
   "file_extension": ".py",
   "mimetype": "text/x-python",
   "name": "python",
   "nbconvert_exporter": "python",
   "pygments_lexer": "ipython3",
   "version": "3.8.3"
  }
 },
 "nbformat": 4,
 "nbformat_minor": 1
}
